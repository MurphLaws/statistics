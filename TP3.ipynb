{
 "cells": [
  {
   "cell_type": "code",
   "execution_count": null,
   "metadata": {},
   "outputs": [],
   "source": [
    "import numpy as np\n",
    "import matplotlib.pyplot as plt\n",
    "from scipy.stats import norm\n",
    "from sklearn.neighbors import KernelDensity\n",
    "\n",
    "def reference(x): #la densité de référence à estimer\n",
    "        return 1/(np.sqrt(2*np.pi))*np.exp(-x**2/2)\n",
    "\n",
    "\n",
    "\n",
    "#Partie 1\n",
    "#Question 1\n",
    "\n",
    "#Uniform Kernel\n",
    "#K(x) = 1/2 if x<1 and x>-1 else 0\n",
    "def K1(x):\n",
    "    return np.where((x < 1) & (x > -1), 1/2, 0)\n",
    "\n",
    "#Triangular kernel\n",
    "#K(x) = 1-|x| if x<1 and x>-1 else 0\n",
    "def K2(x):\n",
    "    return np.where((x < 1) & (x > -1), 1-np.abs(x), 0)\n",
    "    \n",
    "        \n",
    "#Epanechnikov kernel\n",
    "#K(x) = 3/4(1-x^2) if x<1 and x>-1 else 0\n",
    "def K3(x):\n",
    "    return np.where((x < 1) & (x > -1), 3/4*(1-x**2), 0)\n",
    "        \n",
    "#Gaussian kernel\n",
    "#K(x) = 1/(sqrt(2*pi))*exp(-x^2/2)\n",
    "def K4(x):\n",
    "    return 1/(np.sqrt(2*np.pi))*np.exp(-x**2/2)\n",
    "\n",
    "\n",
    "\n"
   ]
  },
  {
   "cell_type": "code",
   "execution_count": null,
   "metadata": {},
   "outputs": [],
   "source": [
    "\n",
    "\n",
    "#Question 2\n",
    "def AllplotK(step,xmin,xmax,col1,col2,col3,col4):\n",
    "\n",
    "            \"\"\"\n",
    "            Plot all kernels in the same graph\n",
    "            step: step between each point\n",
    "            xmin: minimum value of x\n",
    "            xmax: maximum value of x\n",
    "            colors: list of colors for each kernel\n",
    "            \"\"\"\n",
    "            plt.title('All Kernels Plot')\n",
    "            colors = [col1, col2, col3, col4]\n",
    "            kernels = [K1, K2, K3, K4]\n",
    "            legends=['uniform', 'triangle', 'epanechnikov', 'gaussian']\n",
    "            x = np.arange(xmin, xmax, step)\n",
    "            for i in range(len(kernels)):\n",
    "                plt.plot(x, kernels[i](x), colors[i], label = legends[i])\n",
    "            plt.legend()\n",
    "            plt.show()\n",
    "     \n",
    "\n",
    "\n",
    "AllplotK(0.01,-2,2,'r','g','b','y')"
   ]
  },
  {
   "cell_type": "code",
   "execution_count": 48,
   "metadata": {},
   "outputs": [
    {
     "data": {
      "text/plain": [
       "array([-0.0192643 ,  0.85263974,  1.82861172,  0.91426421,  0.15224153,\n",
       "       -0.54784421,  1.01081646,  0.4827817 , -0.40887817,  0.68499088,\n",
       "        0.7910322 , -1.78837143, -0.44479886, -0.73763037,  0.17246706,\n",
       "       -0.94787631,  0.39640258, -0.68818913,  1.10042973, -0.97534421,\n",
       "       -2.94279663, -0.25874882,  0.34824289, -0.90271106, -1.38011738,\n",
       "        0.35317341, -0.5939193 , -0.41497444,  1.08173513, -0.51446476,\n",
       "        0.48942021, -0.81131506, -0.86658879,  0.89271859, -0.54600411,\n",
       "        0.72616164, -0.88302075, -1.66923622,  1.13601216,  0.18673466,\n",
       "        0.66155438, -1.28426663, -0.17457289,  0.35703287,  0.259883  ,\n",
       "        0.58600257, -1.01382392, -0.13135783,  0.56921991, -0.71109441,\n",
       "       -0.83349693,  1.17272171, -1.7973443 , -0.05774051,  0.78495349,\n",
       "       -0.92138784,  0.53136185,  0.96548314, -0.24680035, -1.80347286,\n",
       "       -0.3431177 , -1.45613692,  0.55332524,  1.74559592, -0.26555427,\n",
       "        0.44482865,  0.24340002,  2.19073252,  1.31522785, -0.80077317,\n",
       "        2.03884589, -1.02809125, -0.10117531,  0.29017313, -0.0274997 ,\n",
       "        0.99923783, -0.23236624, -0.03162853, -0.74169708,  0.72598236,\n",
       "        0.86374733,  1.51397873,  0.24537269, -0.31613909, -0.29599228,\n",
       "       -1.18645883,  0.03756428,  1.70189886,  0.74629623, -1.73593985,\n",
       "       -0.95546857,  2.19314329, -0.11734114, -0.20780044,  0.79065073,\n",
       "        1.38388764,  0.24698287, -1.02792733,  0.41552233, -1.3671269 ])"
      ]
     },
     "execution_count": 48,
     "metadata": {},
     "output_type": "execute_result"
    }
   ],
   "source": [
    "#Question 3\n",
    "#Generate a realization of the random sample X according to the standard\n",
    "#Gaussian distribution of size n. (n is currently set to 100 in the script).\n",
    "n=100\n",
    "X= np.random.normal(0,1,n)\n",
    "X"
   ]
  },
  {
   "cell_type": "code",
   "execution_count": 50,
   "metadata": {},
   "outputs": [
    {
     "data": {
      "text/plain": [
       "0.35000000000000003"
      ]
     },
     "execution_count": 50,
     "metadata": {},
     "output_type": "execute_result"
    }
   ],
   "source": [
    "\n",
    "#Question 4\n",
    "#Estimate the density f(here the standard Gaussian, for a window h, at the point x for the kernel func)\n",
    "\n",
    "def fhat(func,h,x): \n",
    "    \"\"\"\n",
    "    func: kernel function\n",
    "    h: window\n",
    "    x: point\n",
    "    \"\"\"\n",
    "    return 1/(n*h)*np.sum(func((x-X)/h))\n",
    "    \n",
    "fhat(K1,0.5,0.5)\n"
   ]
  },
  {
   "cell_type": "code",
   "execution_count": null,
   "metadata": {},
   "outputs": [],
   "source": []
  }
 ],
 "metadata": {
  "kernelspec": {
   "display_name": "tp3-stats",
   "language": "python",
   "name": "python3"
  },
  "language_info": {
   "codemirror_mode": {
    "name": "ipython",
    "version": 3
   },
   "file_extension": ".py",
   "mimetype": "text/x-python",
   "name": "python",
   "nbconvert_exporter": "python",
   "pygments_lexer": "ipython3",
   "version": "3.11.3"
  },
  "orig_nbformat": 4
 },
 "nbformat": 4,
 "nbformat_minor": 2
}
