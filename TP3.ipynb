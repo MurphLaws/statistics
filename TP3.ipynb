{
 "cells": [
  {
   "cell_type": "code",
   "execution_count": 11,
   "metadata": {},
   "outputs": [
    {
     "ename": "ValueError",
     "evalue": "The truth value of an array with more than one element is ambiguous. Use a.any() or a.all()",
     "output_type": "error",
     "traceback": [
      "\u001b[0;31m---------------------------------------------------------------------------\u001b[0m",
      "\u001b[0;31mValueError\u001b[0m                                Traceback (most recent call last)",
      "Cell \u001b[0;32mIn[11], line 34\u001b[0m\n\u001b[1;32m     32\u001b[0m \u001b[39m#graph k1\u001b[39;00m\n\u001b[1;32m     33\u001b[0m x \u001b[39m=\u001b[39m np\u001b[39m.\u001b[39mlinspace(\u001b[39m-\u001b[39m\u001b[39m3\u001b[39m,\u001b[39m3\u001b[39m,\u001b[39m1000\u001b[39m)\n\u001b[0;32m---> 34\u001b[0m y \u001b[39m=\u001b[39m K1(x)\n\u001b[1;32m     35\u001b[0m plt\u001b[39m.\u001b[39mplot(x,y)\n",
      "Cell \u001b[0;32mIn[11], line 17\u001b[0m, in \u001b[0;36mK1\u001b[0;34m(x)\u001b[0m\n\u001b[1;32m     16\u001b[0m \u001b[39mdef\u001b[39;00m \u001b[39mK1\u001b[39m(x):\n\u001b[0;32m---> 17\u001b[0m     \u001b[39mreturn\u001b[39;00m \u001b[39m1\u001b[39m\u001b[39m/\u001b[39m\u001b[39m2\u001b[39m \u001b[39mif\u001b[39;00m x\u001b[39m<\u001b[39m\u001b[39m1\u001b[39m \u001b[39mand\u001b[39;00m x\u001b[39m>\u001b[39m\u001b[39m-\u001b[39m\u001b[39m1\u001b[39m \u001b[39melse\u001b[39;00m \u001b[39m0\u001b[39m\n",
      "\u001b[0;31mValueError\u001b[0m: The truth value of an array with more than one element is ambiguous. Use a.any() or a.all()"
     ]
    }
   ],
   "source": [
    "import numpy as np\n",
    "import matplotlib.pyplot as plt\n",
    "from scipy.stats import norm\n",
    "from sklearn.neighbors import KernelDensity\n",
    "\n",
    "def reference(x): #la densité de référence à estimer\n",
    "        return 1/(np.sqrt(2*np.pi))*np.exp(-x**2/2)\n",
    "\n",
    "\n",
    "\n",
    "#Partie 1\n",
    "#Question 1\n",
    "\n",
    "#Uniform Kernel\n",
    "#K(x) = 1/2 if x<1 and x>-1 else 0\n",
    "def K1(x):\n",
    "    return 1/2 if x<1 and x>-1 else 0\n",
    "\n",
    "        \n",
    "def K2(x):\n",
    "    pass\n",
    "        \n",
    "\n",
    "def K3(x):\n",
    "    pass\n",
    "        \n",
    "\n",
    "def K4(x):\n",
    "    pass\n",
    "\n",
    "\n",
    "#graph k1\n",
    "x = np.linspace(-3,3,1000)\n",
    "y = K1(x)\n",
    "plt.plot(x,y)\n",
    "\n",
    "\n"
   ]
  },
  {
   "cell_type": "code",
   "execution_count": null,
   "metadata": {},
   "outputs": [],
   "source": []
  }
 ],
 "metadata": {
  "kernelspec": {
   "display_name": "tp3-stats",
   "language": "python",
   "name": "python3"
  },
  "language_info": {
   "codemirror_mode": {
    "name": "ipython",
    "version": 3
   },
   "file_extension": ".py",
   "mimetype": "text/x-python",
   "name": "python",
   "nbconvert_exporter": "python",
   "pygments_lexer": "ipython3",
   "version": "3.11.3"
  },
  "orig_nbformat": 4
 },
 "nbformat": 4,
 "nbformat_minor": 2
}
